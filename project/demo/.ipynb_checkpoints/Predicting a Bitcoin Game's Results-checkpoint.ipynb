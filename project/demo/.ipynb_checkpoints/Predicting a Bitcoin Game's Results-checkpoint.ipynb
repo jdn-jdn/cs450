{
 "cells": [
  {
   "cell_type": "markdown",
   "metadata": {},
   "source": [
    "#  Predicting a Bitcoin Game's Results"
   ]
  },
  {
   "cell_type": "markdown",
   "metadata": {},
   "source": [
    "### Using data and machine learning to predict the outcome of *bustabit*, an online bitcoin game "
   ]
  },
  {
   "cell_type": "markdown",
   "metadata": {},
   "source": [
    "1. Introduction\n",
    "2. Data preparation\n",
    "3. Mining/Learning from the data\n",
    "4. Results\n",
    "5. Conclusions\n",
    "6. Lessons learned"
   ]
  },
  {
   "cell_type": "markdown",
   "metadata": {},
   "source": [
    "## 1. Introduction"
   ]
  },
  {
   "cell_type": "markdown",
   "metadata": {},
   "source": [
    "### 1.1 Defining the problem"
   ]
  },
  {
   "cell_type": "markdown",
   "metadata": {},
   "source": [
    "*bustabit* is an online, multiplayer bitcoin game consisting of an increasing curve that can crash anytime. \n",
    "\n",
    "Each game, players may place bets before the game begins and then watch a **multiplier** increase upwards, starting from 1.00x.\n",
    "\n",
    "Players must choose when to cash out and may do so at anytime to get their bet multiplied by that multiplier; however, players must be careful because the game can **bust** at any time. \n",
    "\n",
    "If players don't cash out before the multiplier busts, they will be left with nothing.\n",
    "\n",
    "Note:\n",
    "* 1 bit = 1 / 1,000,000 BTC = 0.000001 BTC\n",
    "* 1 BTC = ~6,700 USD\n",
    "* 1 bit \\* (1 BTC / 1,000,000 bit) \\* (6,700 USD / 1 BTC) = 0.0067 USD"
   ]
  },
  {
   "cell_type": "code",
   "execution_count": 132,
   "metadata": {},
   "outputs": [
    {
     "data": {
      "text/html": [
       "<iframe width=\"980\" height=\"750\" src=\"https://www.bustabit.com/play\" frameborder=\"0\" allowfullscreen></iframe>"
      ],
      "text/plain": [
       "<IPython.core.display.HTML object>"
      ]
     },
     "metadata": {},
     "output_type": "display_data"
    }
   ],
   "source": [
    "%%HTML\n",
    "<iframe width=\"980\" height=\"750\" src=\"https://www.bustabit.com/play\" frameborder=\"0\" allowfullscreen></iframe>"
   ]
  },
  {
   "cell_type": "markdown",
   "metadata": {},
   "source": [
    "### 1.2 Defining the objective\n",
    "\n",
    "The objective of this project is to conduct an analysis to try to predict the results of this game by applying tools of machine learning to predict the multiplier."
   ]
  },
  {
   "cell_type": "markdown",
   "metadata": {},
   "source": [
    "## 2. Data preparation\n",
    "\n",
    "### 2.1 Gathering the data\n",
    "\n",
    "For this project, we created our own data set.\n",
    "\n",
    "*bustabit* provides an API for all clients, which allowed us to gather all the data required.\n",
    "\n",
    "### 2.2 Pre-processing the data"
   ]
  },
  {
   "cell_type": "markdown",
   "metadata": {},
   "source": [
    "* No missing values\n",
    "* Initial data set\n",
    " - IDs\n",
    " - Timestamps\n",
    " - Attributes for house’s loss and revenue from current game"
   ]
  },
  {
   "cell_type": "code",
   "execution_count": 152,
   "metadata": {},
   "outputs": [
    {
     "data": {
      "text/html": [
       "<div>\n",
       "<style scoped>\n",
       "    .dataframe tbody tr th:only-of-type {\n",
       "        vertical-align: middle;\n",
       "    }\n",
       "\n",
       "    .dataframe tbody tr th {\n",
       "        vertical-align: top;\n",
       "    }\n",
       "\n",
       "    .dataframe thead th {\n",
       "        text-align: right;\n",
       "    }\n",
       "</style>\n",
       "<table border=\"1\" class=\"dataframe\">\n",
       "  <thead>\n",
       "    <tr style=\"text-align: right;\">\n",
       "      <th></th>\n",
       "      <th>id</th>\n",
       "      <th>bust_value</th>\n",
       "      <th>num_players</th>\n",
       "      <th>total_bet</th>\n",
       "      <th>time</th>\n",
       "      <th>loss</th>\n",
       "      <th>revenue</th>\n",
       "      <th>consecutive_win_loss</th>\n",
       "    </tr>\n",
       "  </thead>\n",
       "  <tbody>\n",
       "    <tr>\n",
       "      <th>0</th>\n",
       "      <td>216560</td>\n",
       "      <td>3.31</td>\n",
       "      <td>44</td>\n",
       "      <td>146300</td>\n",
       "      <td>1521922745877</td>\n",
       "      <td>61312</td>\n",
       "      <td>32000</td>\n",
       "      <td>-1</td>\n",
       "    </tr>\n",
       "    <tr>\n",
       "      <th>1</th>\n",
       "      <td>216561</td>\n",
       "      <td>1.24</td>\n",
       "      <td>47</td>\n",
       "      <td>611000</td>\n",
       "      <td>1521922757237</td>\n",
       "      <td>8191</td>\n",
       "      <td>397100</td>\n",
       "      <td>0</td>\n",
       "    </tr>\n",
       "    <tr>\n",
       "      <th>2</th>\n",
       "      <td>216562</td>\n",
       "      <td>1.12</td>\n",
       "      <td>44</td>\n",
       "      <td>5508100</td>\n",
       "      <td>1521922767069</td>\n",
       "      <td>742</td>\n",
       "      <td>5490000</td>\n",
       "      <td>1</td>\n",
       "    </tr>\n",
       "    <tr>\n",
       "      <th>3</th>\n",
       "      <td>216563</td>\n",
       "      <td>1.84</td>\n",
       "      <td>43</td>\n",
       "      <td>5259200</td>\n",
       "      <td>1521922784049</td>\n",
       "      <td>34858</td>\n",
       "      <td>5139200</td>\n",
       "      <td>2</td>\n",
       "    </tr>\n",
       "    <tr>\n",
       "      <th>4</th>\n",
       "      <td>216564</td>\n",
       "      <td>1.32</td>\n",
       "      <td>46</td>\n",
       "      <td>854200</td>\n",
       "      <td>1521922796214</td>\n",
       "      <td>72957</td>\n",
       "      <td>469600</td>\n",
       "      <td>3</td>\n",
       "    </tr>\n",
       "  </tbody>\n",
       "</table>\n",
       "</div>"
      ],
      "text/plain": [
       "       id  bust_value  num_players  total_bet           time   loss  revenue  \\\n",
       "0  216560        3.31           44     146300  1521922745877  61312    32000   \n",
       "1  216561        1.24           47     611000  1521922757237   8191   397100   \n",
       "2  216562        1.12           44    5508100  1521922767069    742  5490000   \n",
       "3  216563        1.84           43    5259200  1521922784049  34858  5139200   \n",
       "4  216564        1.32           46     854200  1521922796214  72957   469600   \n",
       "\n",
       "   consecutive_win_loss  \n",
       "0                    -1  \n",
       "1                     0  \n",
       "2                     1  \n",
       "3                     2  \n",
       "4                     3  "
      ]
     },
     "execution_count": 152,
     "metadata": {},
     "output_type": "execute_result"
    }
   ],
   "source": [
    "import pandas as pd\n",
    "\n",
    "df = pd.read_csv('./../data_old.csv')\n",
    "df.head()"
   ]
  },
  {
   "cell_type": "markdown",
   "metadata": {},
   "source": [
    "* Final data set\n",
    "    * Needed attributes for house’s loss and revenue values from last game before game started\n",
    "        * Values only available at end of the game\n",
    "        * Old values not useful if trying to play game\n",
    "        * Replaced these values with loss and revenue from *last* game, not the *current*\n",
    "    * Removed unnecessary attributes\n",
    "    * Numeric and continuous (regression)\n",
    "    * Normalized"
   ]
  },
  {
   "cell_type": "code",
   "execution_count": 153,
   "metadata": {
    "scrolled": true
   },
   "outputs": [
    {
     "data": {
      "text/html": [
       "<div>\n",
       "<style scoped>\n",
       "    .dataframe tbody tr th:only-of-type {\n",
       "        vertical-align: middle;\n",
       "    }\n",
       "\n",
       "    .dataframe tbody tr th {\n",
       "        vertical-align: top;\n",
       "    }\n",
       "\n",
       "    .dataframe thead th {\n",
       "        text-align: right;\n",
       "    }\n",
       "</style>\n",
       "<table border=\"1\" class=\"dataframe\">\n",
       "  <thead>\n",
       "    <tr style=\"text-align: right;\">\n",
       "      <th></th>\n",
       "      <th>num_of_players</th>\n",
       "      <th>total_bet</th>\n",
       "      <th>last_loss</th>\n",
       "      <th>last_revenue</th>\n",
       "      <th>consecutive_wl</th>\n",
       "      <th>last_result</th>\n",
       "      <th>current_result</th>\n",
       "    </tr>\n",
       "  </thead>\n",
       "  <tbody>\n",
       "    <tr>\n",
       "      <th>0</th>\n",
       "      <td>47</td>\n",
       "      <td>4063600</td>\n",
       "      <td>2599080</td>\n",
       "      <td>4230900</td>\n",
       "      <td>-1</td>\n",
       "      <td>1.13</td>\n",
       "      <td>2.23</td>\n",
       "    </tr>\n",
       "    <tr>\n",
       "      <th>1</th>\n",
       "      <td>50</td>\n",
       "      <td>4775100</td>\n",
       "      <td>3533694</td>\n",
       "      <td>1092900</td>\n",
       "      <td>1</td>\n",
       "      <td>2.23</td>\n",
       "      <td>1.33</td>\n",
       "    </tr>\n",
       "    <tr>\n",
       "      <th>2</th>\n",
       "      <td>48</td>\n",
       "      <td>6694700</td>\n",
       "      <td>3600599</td>\n",
       "      <td>4500100</td>\n",
       "      <td>-1</td>\n",
       "      <td>1.33</td>\n",
       "      <td>1.34</td>\n",
       "    </tr>\n",
       "    <tr>\n",
       "      <th>3</th>\n",
       "      <td>43</td>\n",
       "      <td>11266500</td>\n",
       "      <td>3604631</td>\n",
       "      <td>6671400</td>\n",
       "      <td>-2</td>\n",
       "      <td>1.34</td>\n",
       "      <td>1.43</td>\n",
       "    </tr>\n",
       "    <tr>\n",
       "      <th>4</th>\n",
       "      <td>43</td>\n",
       "      <td>17614200</td>\n",
       "      <td>3890632</td>\n",
       "      <td>10426000</td>\n",
       "      <td>-3</td>\n",
       "      <td>1.43</td>\n",
       "      <td>1.36</td>\n",
       "    </tr>\n",
       "  </tbody>\n",
       "</table>\n",
       "</div>"
      ],
      "text/plain": [
       "   num_of_players   total_bet   last_loss   last_revenue   consecutive_wl  \\\n",
       "0              47     4063600     2599080        4230900               -1   \n",
       "1              50     4775100     3533694        1092900                1   \n",
       "2              48     6694700     3600599        4500100               -1   \n",
       "3              43    11266500     3604631        6671400               -2   \n",
       "4              43    17614200     3890632       10426000               -3   \n",
       "\n",
       "    last_result  current_result  \n",
       "0          1.13            2.23  \n",
       "1          2.23            1.33  \n",
       "2          1.33            1.34  \n",
       "3          1.34            1.43  \n",
       "4          1.43            1.36  "
      ]
     },
     "execution_count": 153,
     "metadata": {},
     "output_type": "execute_result"
    }
   ],
   "source": [
    "df = pd.read_csv('./../data.csv')\n",
    "df.head()"
   ]
  },
  {
   "cell_type": "code",
   "execution_count": 154,
   "metadata": {},
   "outputs": [
    {
     "data": {
      "text/html": [
       "<div>\n",
       "<style scoped>\n",
       "    .dataframe tbody tr th:only-of-type {\n",
       "        vertical-align: middle;\n",
       "    }\n",
       "\n",
       "    .dataframe tbody tr th {\n",
       "        vertical-align: top;\n",
       "    }\n",
       "\n",
       "    .dataframe thead th {\n",
       "        text-align: right;\n",
       "    }\n",
       "</style>\n",
       "<table border=\"1\" class=\"dataframe\">\n",
       "  <thead>\n",
       "    <tr style=\"text-align: right;\">\n",
       "      <th></th>\n",
       "      <th>num_of_players</th>\n",
       "      <th>total_bet</th>\n",
       "      <th>last_loss</th>\n",
       "      <th>last_revenue</th>\n",
       "      <th>consecutive_wl</th>\n",
       "      <th>last_result</th>\n",
       "    </tr>\n",
       "  </thead>\n",
       "  <tbody>\n",
       "    <tr>\n",
       "      <th>0</th>\n",
       "      <td>-0.116769</td>\n",
       "      <td>-0.171545</td>\n",
       "      <td>-1.915937</td>\n",
       "      <td>0.464931</td>\n",
       "      <td>-0.430937</td>\n",
       "      <td>-0.060397</td>\n",
       "    </tr>\n",
       "    <tr>\n",
       "      <th>1</th>\n",
       "      <td>0.208074</td>\n",
       "      <td>-0.066265</td>\n",
       "      <td>-1.915821</td>\n",
       "      <td>-0.261850</td>\n",
       "      <td>0.391060</td>\n",
       "      <td>-0.053271</td>\n",
       "    </tr>\n",
       "    <tr>\n",
       "      <th>2</th>\n",
       "      <td>-0.008488</td>\n",
       "      <td>0.217779</td>\n",
       "      <td>-1.915813</td>\n",
       "      <td>0.527279</td>\n",
       "      <td>-0.430937</td>\n",
       "      <td>-0.059101</td>\n",
       "    </tr>\n",
       "    <tr>\n",
       "      <th>3</th>\n",
       "      <td>-0.549893</td>\n",
       "      <td>0.894270</td>\n",
       "      <td>-1.915813</td>\n",
       "      <td>1.030166</td>\n",
       "      <td>-0.841936</td>\n",
       "      <td>-0.059036</td>\n",
       "    </tr>\n",
       "    <tr>\n",
       "      <th>4</th>\n",
       "      <td>-0.549893</td>\n",
       "      <td>1.833541</td>\n",
       "      <td>-1.915777</td>\n",
       "      <td>1.899755</td>\n",
       "      <td>-1.252935</td>\n",
       "      <td>-0.058453</td>\n",
       "    </tr>\n",
       "  </tbody>\n",
       "</table>\n",
       "</div>"
      ],
      "text/plain": [
       "   num_of_players   total_bet   last_loss   last_revenue   consecutive_wl  \\\n",
       "0       -0.116769   -0.171545   -1.915937       0.464931        -0.430937   \n",
       "1        0.208074   -0.066265   -1.915821      -0.261850         0.391060   \n",
       "2       -0.008488    0.217779   -1.915813       0.527279        -0.430937   \n",
       "3       -0.549893    0.894270   -1.915813       1.030166        -0.841936   \n",
       "4       -0.549893    1.833541   -1.915777       1.899755        -1.252935   \n",
       "\n",
       "    last_result  \n",
       "0     -0.060397  \n",
       "1     -0.053271  \n",
       "2     -0.059101  \n",
       "3     -0.059036  \n",
       "4     -0.058453  "
      ]
     },
     "execution_count": 154,
     "metadata": {},
     "output_type": "execute_result"
    }
   ],
   "source": [
    "import numpy as np\n",
    "np.set_printoptions(threshold=np.inf)\n",
    "np.set_printoptions(precision=3)\n",
    "\n",
    "from sklearn.preprocessing import StandardScaler\n",
    "\n",
    "X, y = df.drop(\"current_result\", axis = 1).values, df[[\"current_result\"]].values\n",
    "\n",
    "scaler = StandardScaler()\n",
    "scaler.fit(X)\n",
    "X = scaler.transform(X)\n",
    "\n",
    "pd.DataFrame(X, columns=list(df.columns.values)[:6]).head()"
   ]
  },
  {
   "cell_type": "markdown",
   "metadata": {},
   "source": [
    "### 2.3 Handling non-trivial data\n",
    "No missing values. \n",
    "\n",
    "Outliers can be important if they carry a lot of weight or if they give important information that the more “normal\" data doesn’t.\n",
    "\n",
    "Our outliers are important in our data set. \n",
    "\n",
    "Our outliers are not errors and were not removed; they are the extreme multiplier values we want to model."
   ]
  },
  {
   "cell_type": "markdown",
   "metadata": {},
   "source": [
    "## 3. Mining/learning from the data"
   ]
  },
  {
   "cell_type": "markdown",
   "metadata": {},
   "source": [
    "### 3.1 Data exploration"
   ]
  },
  {
   "cell_type": "markdown",
   "metadata": {},
   "source": [
    "Printing first few rows of the unnormalized data set:"
   ]
  },
  {
   "cell_type": "code",
   "execution_count": 155,
   "metadata": {},
   "outputs": [
    {
     "data": {
      "text/html": [
       "<div>\n",
       "<style scoped>\n",
       "    .dataframe tbody tr th:only-of-type {\n",
       "        vertical-align: middle;\n",
       "    }\n",
       "\n",
       "    .dataframe tbody tr th {\n",
       "        vertical-align: top;\n",
       "    }\n",
       "\n",
       "    .dataframe thead th {\n",
       "        text-align: right;\n",
       "    }\n",
       "</style>\n",
       "<table border=\"1\" class=\"dataframe\">\n",
       "  <thead>\n",
       "    <tr style=\"text-align: right;\">\n",
       "      <th></th>\n",
       "      <th>num_of_players</th>\n",
       "      <th>total_bet</th>\n",
       "      <th>last_loss</th>\n",
       "      <th>last_revenue</th>\n",
       "      <th>consecutive_wl</th>\n",
       "      <th>last_result</th>\n",
       "      <th>current_result</th>\n",
       "    </tr>\n",
       "  </thead>\n",
       "  <tbody>\n",
       "    <tr>\n",
       "      <th>0</th>\n",
       "      <td>47</td>\n",
       "      <td>4063600</td>\n",
       "      <td>2599080</td>\n",
       "      <td>4230900</td>\n",
       "      <td>-1</td>\n",
       "      <td>1.13</td>\n",
       "      <td>2.23</td>\n",
       "    </tr>\n",
       "    <tr>\n",
       "      <th>1</th>\n",
       "      <td>50</td>\n",
       "      <td>4775100</td>\n",
       "      <td>3533694</td>\n",
       "      <td>1092900</td>\n",
       "      <td>1</td>\n",
       "      <td>2.23</td>\n",
       "      <td>1.33</td>\n",
       "    </tr>\n",
       "    <tr>\n",
       "      <th>2</th>\n",
       "      <td>48</td>\n",
       "      <td>6694700</td>\n",
       "      <td>3600599</td>\n",
       "      <td>4500100</td>\n",
       "      <td>-1</td>\n",
       "      <td>1.33</td>\n",
       "      <td>1.34</td>\n",
       "    </tr>\n",
       "    <tr>\n",
       "      <th>3</th>\n",
       "      <td>43</td>\n",
       "      <td>11266500</td>\n",
       "      <td>3604631</td>\n",
       "      <td>6671400</td>\n",
       "      <td>-2</td>\n",
       "      <td>1.34</td>\n",
       "      <td>1.43</td>\n",
       "    </tr>\n",
       "    <tr>\n",
       "      <th>4</th>\n",
       "      <td>43</td>\n",
       "      <td>17614200</td>\n",
       "      <td>3890632</td>\n",
       "      <td>10426000</td>\n",
       "      <td>-3</td>\n",
       "      <td>1.43</td>\n",
       "      <td>1.36</td>\n",
       "    </tr>\n",
       "  </tbody>\n",
       "</table>\n",
       "</div>"
      ],
      "text/plain": [
       "   num_of_players   total_bet   last_loss   last_revenue   consecutive_wl  \\\n",
       "0              47     4063600     2599080        4230900               -1   \n",
       "1              50     4775100     3533694        1092900                1   \n",
       "2              48     6694700     3600599        4500100               -1   \n",
       "3              43    11266500     3604631        6671400               -2   \n",
       "4              43    17614200     3890632       10426000               -3   \n",
       "\n",
       "    last_result  current_result  \n",
       "0          1.13            2.23  \n",
       "1          2.23            1.33  \n",
       "2          1.33            1.34  \n",
       "3          1.34            1.43  \n",
       "4          1.43            1.36  "
      ]
     },
     "execution_count": 155,
     "metadata": {},
     "output_type": "execute_result"
    }
   ],
   "source": [
    "df.head()"
   ]
  },
  {
   "cell_type": "code",
   "execution_count": 156,
   "metadata": {},
   "outputs": [
    {
     "data": {
      "text/plain": [
       "(14058, 7)"
      ]
     },
     "execution_count": 156,
     "metadata": {},
     "output_type": "execute_result"
    }
   ],
   "source": [
    "df.shape"
   ]
  },
  {
   "cell_type": "markdown",
   "metadata": {},
   "source": [
    "#### Total rows and columns\n",
    "\n",
    "There are 14,058 rows and 7 columns in the data set."
   ]
  },
  {
   "cell_type": "code",
   "execution_count": 157,
   "metadata": {},
   "outputs": [
    {
     "name": "stdout",
     "output_type": "stream",
     "text": [
      "<class 'pandas.core.frame.DataFrame'>\n",
      "RangeIndex: 14058 entries, 0 to 14057\n",
      "Data columns (total 7 columns):\n",
      "num_of_players     14058 non-null int64\n",
      " total_bet         14058 non-null int64\n",
      " last_loss         14058 non-null int64\n",
      " last_revenue      14058 non-null int64\n",
      " consecutive_wl    14058 non-null int64\n",
      " last_result       14058 non-null float64\n",
      "current_result     14058 non-null float64\n",
      "dtypes: float64(2), int64(5)\n",
      "memory usage: 768.9 KB\n"
     ]
    }
   ],
   "source": [
    "df.info()"
   ]
  },
  {
   "cell_type": "markdown",
   "metadata": {},
   "source": [
    "#### Five-number summary"
   ]
  },
  {
   "cell_type": "code",
   "execution_count": 158,
   "metadata": {},
   "outputs": [
    {
     "data": {
      "text/html": [
       "<div>\n",
       "<style scoped>\n",
       "    .dataframe tbody tr th:only-of-type {\n",
       "        vertical-align: middle;\n",
       "    }\n",
       "\n",
       "    .dataframe tbody tr th {\n",
       "        vertical-align: top;\n",
       "    }\n",
       "\n",
       "    .dataframe thead th {\n",
       "        text-align: right;\n",
       "    }\n",
       "</style>\n",
       "<table border=\"1\" class=\"dataframe\">\n",
       "  <thead>\n",
       "    <tr style=\"text-align: right;\">\n",
       "      <th></th>\n",
       "      <th>num_of_players</th>\n",
       "      <th>total_bet</th>\n",
       "      <th>last_loss</th>\n",
       "      <th>last_revenue</th>\n",
       "      <th>consecutive_wl</th>\n",
       "      <th>last_result</th>\n",
       "      <th>current_result</th>\n",
       "    </tr>\n",
       "  </thead>\n",
       "  <tbody>\n",
       "    <tr>\n",
       "      <th>count</th>\n",
       "      <td>14058.000000</td>\n",
       "      <td>1.405800e+04</td>\n",
       "      <td>1.405800e+04</td>\n",
       "      <td>1.405800e+04</td>\n",
       "      <td>14058.000000</td>\n",
       "      <td>14058.000000</td>\n",
       "      <td>14058.000000</td>\n",
       "    </tr>\n",
       "    <tr>\n",
       "      <th>mean</th>\n",
       "      <td>48.078390</td>\n",
       "      <td>5.222923e+06</td>\n",
       "      <td>1.543215e+10</td>\n",
       "      <td>2.223480e+06</td>\n",
       "      <td>0.048513</td>\n",
       "      <td>10.452922</td>\n",
       "      <td>10.452944</td>\n",
       "    </tr>\n",
       "    <tr>\n",
       "      <th>std</th>\n",
       "      <td>9.235559</td>\n",
       "      <td>6.758355e+06</td>\n",
       "      <td>8.053553e+09</td>\n",
       "      <td>4.317826e+06</td>\n",
       "      <td>2.433185</td>\n",
       "      <td>154.367051</td>\n",
       "      <td>154.367050</td>\n",
       "    </tr>\n",
       "    <tr>\n",
       "      <th>min</th>\n",
       "      <td>19.000000</td>\n",
       "      <td>0.000000e+00</td>\n",
       "      <td>2.599080e+06</td>\n",
       "      <td>0.000000e+00</td>\n",
       "      <td>-12.000000</td>\n",
       "      <td>1.000000</td>\n",
       "      <td>1.000000</td>\n",
       "    </tr>\n",
       "    <tr>\n",
       "      <th>25%</th>\n",
       "      <td>41.000000</td>\n",
       "      <td>1.634500e+06</td>\n",
       "      <td>7.629289e+09</td>\n",
       "      <td>1.023000e+05</td>\n",
       "      <td>-1.000000</td>\n",
       "      <td>1.320000</td>\n",
       "      <td>1.320000</td>\n",
       "    </tr>\n",
       "    <tr>\n",
       "      <th>50%</th>\n",
       "      <td>48.000000</td>\n",
       "      <td>3.159200e+06</td>\n",
       "      <td>1.644610e+10</td>\n",
       "      <td>7.567000e+05</td>\n",
       "      <td>1.000000</td>\n",
       "      <td>1.990000</td>\n",
       "      <td>1.990000</td>\n",
       "    </tr>\n",
       "    <tr>\n",
       "      <th>75%</th>\n",
       "      <td>55.000000</td>\n",
       "      <td>6.287000e+06</td>\n",
       "      <td>2.187686e+10</td>\n",
       "      <td>2.450775e+06</td>\n",
       "      <td>2.000000</td>\n",
       "      <td>3.907500</td>\n",
       "      <td>3.907500</td>\n",
       "    </tr>\n",
       "    <tr>\n",
       "      <th>max</th>\n",
       "      <td>86.000000</td>\n",
       "      <td>1.591035e+08</td>\n",
       "      <td>2.989564e+10</td>\n",
       "      <td>1.018228e+08</td>\n",
       "      <td>12.000000</td>\n",
       "      <td>13831.960000</td>\n",
       "      <td>13831.960000</td>\n",
       "    </tr>\n",
       "  </tbody>\n",
       "</table>\n",
       "</div>"
      ],
      "text/plain": [
       "       num_of_players     total_bet     last_loss   last_revenue  \\\n",
       "count    14058.000000  1.405800e+04  1.405800e+04   1.405800e+04   \n",
       "mean        48.078390  5.222923e+06  1.543215e+10   2.223480e+06   \n",
       "std          9.235559  6.758355e+06  8.053553e+09   4.317826e+06   \n",
       "min         19.000000  0.000000e+00  2.599080e+06   0.000000e+00   \n",
       "25%         41.000000  1.634500e+06  7.629289e+09   1.023000e+05   \n",
       "50%         48.000000  3.159200e+06  1.644610e+10   7.567000e+05   \n",
       "75%         55.000000  6.287000e+06  2.187686e+10   2.450775e+06   \n",
       "max         86.000000  1.591035e+08  2.989564e+10   1.018228e+08   \n",
       "\n",
       "        consecutive_wl   last_result  current_result  \n",
       "count     14058.000000  14058.000000    14058.000000  \n",
       "mean          0.048513     10.452922       10.452944  \n",
       "std           2.433185    154.367051      154.367050  \n",
       "min         -12.000000      1.000000        1.000000  \n",
       "25%          -1.000000      1.320000        1.320000  \n",
       "50%           1.000000      1.990000        1.990000  \n",
       "75%           2.000000      3.907500        3.907500  \n",
       "max          12.000000  13831.960000    13831.960000  "
      ]
     },
     "execution_count": 158,
     "metadata": {},
     "output_type": "execute_result"
    }
   ],
   "source": [
    "df.describe()"
   ]
  },
  {
   "cell_type": "markdown",
   "metadata": {},
   "source": [
    "Sample percentiles for bet multiplier ('current_result'):\n",
    "    \n",
    "1. **minimum** = 1.00\n",
    "2. **lower quartile** = 1.32\n",
    "3. **median** = 1.99 (**mean** = 10.45)\n",
    "4. **upper quartile** = 3.91\n",
    "5. **maximum** = 13831.96"
   ]
  },
  {
   "cell_type": "code",
   "execution_count": 159,
   "metadata": {},
   "outputs": [
    {
     "data": {
      "text/plain": [
       "<matplotlib.axes._subplots.AxesSubplot at 0x25e4aeaabe0>"
      ]
     },
     "execution_count": 159,
     "metadata": {},
     "output_type": "execute_result"
    },
    {
     "data": {
      "image/png": "[encoded data removed]",
      "text/plain": [
       "<matplotlib.figure.Figure at 0x25e4add7940>"
      ]
     },
     "metadata": {},
     "output_type": "display_data"
    }
   ],
   "source": [
    "import matplotlib.pyplot as plt\n",
    "\n",
    "plt.rcParams[\"figure.figsize\"] = (15,6)\n",
    "df['current_result'].plot.box(vert=False)"
   ]
  },
  {
   "cell_type": "code",
   "execution_count": 160,
   "metadata": {},
   "outputs": [
    {
     "name": "stdout",
     "output_type": "stream",
     "text": [
      "current_result\n",
      "(1, 2]        6824\n",
      "(2, 3]        2314\n",
      "(3, 4]        1243\n",
      "(4, 5]         678\n",
      "(5, 6]         474\n",
      "(6, 7]         299\n",
      "(7, 8]         208\n",
      "(8, 9]         181\n",
      "(9, 14000]    1574\n",
      "dtype: int64\n"
     ]
    },
    {
     "data": {
      "image/png": "[encoded data removed]",
      "text/plain": [
       "<matplotlib.figure.Figure at 0x25e4d00fdd8>"
      ]
     },
     "metadata": {},
     "output_type": "display_data"
    }
   ],
   "source": [
    "bins = [1, 2, 3, 4, 5, 6, 7, 8, 9, 14000]\n",
    "\n",
    "print(df.groupby(pd.cut(df['current_result'], bins=bins)).size())\n",
    "\n",
    "bin_sizes = [bin_size for bin_size in df.groupby(pd.cut(df['current_result'], bins=bins)).size()]\n",
    "y_values = bin_sizes\n",
    "N = len(y_values)\n",
    "x_values = range(N)\n",
    "\n",
    "plt.title('Multiplier Value Frequencies by Bins')\n",
    "plt.xlabel('Bins')\n",
    "plt.ylabel('Bin Sizes')\n",
    "plt.bar(x_values, y_values)\n",
    "plt.xticks(x_values, ('1-2', '2-3', '3-4', '4-5', '5-6', '6-7', '7-8', '8-9', '9+'))\n",
    "plt.rcParams[\"figure.figsize\"] = (15,6)\n",
    "plt.show()"
   ]
  },
  {
   "cell_type": "code",
   "execution_count": 161,
   "metadata": {},
   "outputs": [
    {
     "data": {
      "image/png": "[encoded data removed]",
      "text/plain": [
       "<matplotlib.figure.Figure at 0x25e4d0f5ba8>"
      ]
     },
     "metadata": {},
     "output_type": "display_data"
    }
   ],
   "source": [
    "labels = '1-2', '2-3', '3-4', '4-5', '5-6', '6-7', '7-8', '8-9', '9+'\n",
    "sizes = bin_sizes\n",
    "explode = (0.05, 0, 0, 0, 0, 0, 0, 0, 0)\n",
    " \n",
    "plt.title('Multiplier Value Distribution by Bins')\n",
    "plt.pie(sizes, explode=explode, labels=labels, autopct='%1.1f%%', startangle=-90)\n",
    "plt.axis('equal')\n",
    "plt.rcParams[\"figure.figsize\"] = (15,6)\n",
    "plt.show()"
   ]
  },
  {
   "cell_type": "code",
   "execution_count": 163,
   "metadata": {},
   "outputs": [
    {
     "name": "stdout",
     "output_type": "stream",
     "text": [
      "Sudden busts: 1.87%\n"
     ]
    }
   ],
   "source": [
    "print('Sudden busts: ' + str(round(len([m for m in y if m == 1]) / len(y) * 100, 2)) + '%')"
   ]
  },
  {
   "cell_type": "markdown",
   "metadata": {},
   "source": [
    "### 3.2 Applying machine learning tools"
   ]
  },
  {
   "cell_type": "code",
   "execution_count": 166,
   "metadata": {},
   "outputs": [],
   "source": [
    "# Importing regression modules\n",
    "from sklearn import linear_model\n",
    "from sklearn.neighbors import KNeighborsRegressor\n",
    "from sklearn.neural_network import MLPRegressor\n",
    "from sklearn.tree import DecisionTreeRegressor\n",
    "from sklearn.linear_model import LogisticRegression\n",
    "from sklearn.naive_bayes import GaussianNB\n",
    "from sklearn.linear_model import SGDRegressor\n",
    "from sklearn.kernel_ridge import KernelRidge\n",
    "from sklearn import svm\n",
    "\n",
    "# Importing necessary tools\n",
    "from sklearn.metrics import accuracy_score\n",
    "from sklearn.model_selection import train_test_split\n",
    "from sklearn.metrics import mean_squared_error\n",
    "from sklearn.grid_search import GridSearchCV\n",
    "from sklearn.model_selection import KFold\n",
    "from sklearn.model_selection import cross_val_score"
   ]
  },
  {
   "cell_type": "code",
   "execution_count": 165,
   "metadata": {
    "scrolled": true
   },
   "outputs": [],
   "source": [
    "# Defining a helper function\n",
    "def frange(x, y, jump):\n",
    "    \"\"\"\n",
    "    range() equivalent for floats.\n",
    "    \"\"\"\n",
    "    while x < y:\n",
    "        yield x\n",
    "        x += jump"
   ]
  },
  {
   "cell_type": "markdown",
   "metadata": {},
   "source": [
    "### 3.2.1 KNeighborsRegressor"
   ]
  },
  {
   "cell_type": "code",
   "execution_count": null,
   "metadata": {},
   "outputs": [],
   "source": [
    "kf = KFold(n_splits=10, shuffle=True)\n",
    "\n",
    "array_of_accuracies = []\n",
    "array_of_balances = []\n",
    "\n",
    "start = 1\n",
    "step  = 1\n",
    "end   = 150\n",
    "\n",
    "for K in range(start, end, step):\n",
    "    clf = KNeighborsRegressor(n_neighbors=K)\n",
    "    \n",
    "    accuracies = []\n",
    "    balances = []\n",
    "    y_pred = []\n",
    "    \n",
    "    for train, test in kf.split(X):\n",
    "        X_train, X_test, y_train, y_test = X[train], X[test], y[train], y[test]\n",
    "        \n",
    "        clf.fit(X_train, y_train)\n",
    "        y_pred = clf.predict(X_test)\n",
    "        \n",
    "        count = 0\n",
    "        balance = 100000.00\n",
    "        for i in range(len(y_test)):\n",
    "            if y_pred[i] <= y_test[i] and y_pred[i] >= 1:\n",
    "                count += 1\n",
    "                balance += float(y_pred[i]) * 100 - 100\n",
    "            else:\n",
    "                balance -= 100\n",
    "\n",
    "        accuracy = count / len(y_pred)\n",
    "        accuracies = np.append(accuracies, accuracy)\n",
    "        balances = np.append(balances, balance)\n",
    "\n",
    "    average_ending_balance = np.mean(balances)\n",
    "    average_accuracy = np.mean(accuracies)\n",
    "    \n",
    "    array_of_accuracies = np.append(array_of_accuracies, average_accuracy)\n",
    "    array_of_balances = np.append(array_of_balances, average_ending_balance)\n",
    "\n",
    "num_neighbors_used = [K for K in list(range(start, end, step))]\n",
    "\n",
    "plt.title(\"Mean Accuracy for K\")\n",
    "plt.xlabel('K')\n",
    "plt.ylabel('Mean Accuracy')\n",
    "plt.ylim(0.0, 1.0)\n",
    "plt.xlim(1, 140)\n",
    "plt.plot(num_neighbors_used, array_of_accuracies)\n",
    "plt.show()\n",
    "\n",
    "plt.title(\"Mean Balance for K\")\n",
    "plt.xlabel('K')\n",
    "plt.ylabel('Mean Balance (bits)')\n",
    "plt.plot(num_neighbors_used, array_of_balances, label='ending')\n",
    "plt.plot(num_neighbors_used, np.full(int((end - start) / step), 100000), label='starting')\n",
    "plt.legend(loc='upper right')\n",
    "plt.show()\n",
    "\n",
    "max_accuracy_KNN = array_of_accuracies[array_of_balances.argmax()]\n",
    "max_balance_KNN = np.max(array_of_balances)\n",
    "\n",
    "print(\"Maximum average accuracy: \" + str(round(np.max(array_of_accuracies), 2)) + '% at K = ' + str(array_of_accuracies.argmax()))\n",
    "print(\"Maximum ending balance: \" + str(round(max_balance_KNN, 2)) + ' bits at K = ' + str(array_of_balances.argmax()))"
   ]
  },
  {
   "cell_type": "markdown",
   "metadata": {},
   "source": [
    "### 3.2.2 RANSACRegressor"
   ]
  },
  {
   "cell_type": "code",
   "execution_count": 147,
   "metadata": {},
   "outputs": [
    {
     "name": "stdout",
     "output_type": "stream",
     "text": [
      "Maximum ending accuracy: 56.82%\n",
      "Maximum ending balance: 87435.93\n"
     ]
    }
   ],
   "source": [
    "kf = KFold(n_splits=10, shuffle=True)\n",
    "\n",
    "array_of_accuracies = []\n",
    "array_of_balances = []\n",
    "\n",
    "clf = linear_model.RANSACRegressor()\n",
    "\n",
    "accuracies = []\n",
    "balances = []\n",
    "y_pred = []\n",
    "\n",
    "for train, test in kf.split(X):\n",
    "    X_train, X_test, y_train, y_test = X[train], X[test], y[train], y[test]\n",
    "    \n",
    "    clf.fit(X_train, y_train)\n",
    "    y_pred = clf.predict(X_test)\n",
    "    \n",
    "    count = 0\n",
    "    balance = 100000.00\n",
    "    for i in range(len(y_test)):\n",
    "        if y_pred[i] <= y_test[i] and y_pred[i] >= 1:\n",
    "            count += 1\n",
    "            balance += float(y_pred[i]) * 100 - 100\n",
    "        else:\n",
    "            balance -= 100\n",
    "\n",
    "    accuracy = count / len(y_pred)\n",
    "    accuracies = np.append(accuracies, accuracy)\n",
    "    balances = np.append(balances, balance)\n",
    "\n",
    "average_ending_balance = np.mean(balances)\n",
    "average_accuracy = np.mean(accuracies)\n",
    "\n",
    "array_of_accuracies = np.append(array_of_accuracies, average_accuracy)\n",
    "array_of_balances = np.append(array_of_balances, average_ending_balance)\n",
    "\n",
    "max_accuracy_RANSAC = np.max(array_of_accuracies)\n",
    "max_balance_RANSAC = np.max(array_of_balances)\n",
    "\n",
    "print(\"Maximum ending accuracy: \" + str(round(max_accuracy_RANSAC * 100, 2)) + \"%\")\n",
    "print(\"Maximum ending balance:\", round(max_balance_RANSAC, 2))"
   ]
  },
  {
   "cell_type": "markdown",
   "metadata": {},
   "source": [
    "### 3.2.3 Ridge"
   ]
  },
  {
   "cell_type": "code",
   "execution_count": 148,
   "metadata": {},
   "outputs": [
    {
     "name": "stdout",
     "output_type": "stream",
     "text": [
      "Maximum ending accuracy: 10.09%\n",
      "Maximum ending balance: 99787.07\n"
     ]
    }
   ],
   "source": [
    "kf = KFold(n_splits=10, shuffle=True)\n",
    "\n",
    "array_of_accuracies = []\n",
    "array_of_balances = []\n",
    "\n",
    "clf = linear_model.Ridge(alpha=0.5) \n",
    "\n",
    "accuracies = []\n",
    "balance_array = []\n",
    "y_pred = []\n",
    "\n",
    "for train, test in kf.split(X):\n",
    "    X_train, X_test, y_train, y_test = X[train], X[test], y[train], y[test]\n",
    "    \n",
    "    clf.fit(X_train, y_train)\n",
    "    y_pred = clf.predict(X_test)\n",
    "    \n",
    "    count = 0\n",
    "    balance = 100000.00\n",
    "    for i in range(len(y_test)):\n",
    "        if y_pred[i] <= y_test[i] and y_pred[i] >= 1:            \n",
    "            count += 1\n",
    "            balance += float(y_pred[i]) * 100 - 100\n",
    "        else:\n",
    "            balance -= 100\n",
    "\n",
    "    accuracy = count / len(y_pred)\n",
    "    accuracies = np.append(accuracies, accuracy)\n",
    "    balance_array = np.append(balance_array, balance)\n",
    "\n",
    "average_ending_balance = np.mean(balance_array)\n",
    "average_accuracy = np.mean(accuracies)\n",
    "\n",
    "array_of_accuracies = np.append(array_of_accuracies, average_accuracy)\n",
    "array_of_balances = np.append(array_of_balances, average_ending_balance)\n",
    "\n",
    "max_accuracy_Ridge = np.max(array_of_accuracies)\n",
    "max_balance_Ridge = np.max(array_of_balances)\n",
    "\n",
    "print(\"Maximum ending accuracy: \" + str(round(max_accuracy_Ridge * 100, 2)) + \"%\")\n",
    "print(\"Maximum ending balance:\", round(max_balance_Ridge, 2))"
   ]
  },
  {
   "cell_type": "markdown",
   "metadata": {},
   "source": [
    "### 3.2.4 Lasso"
   ]
  },
  {
   "cell_type": "code",
   "execution_count": 149,
   "metadata": {},
   "outputs": [
    {
     "name": "stdout",
     "output_type": "stream",
     "text": [
      "Maximum ending accuracy: 9.86%\n",
      "Maximum ending balance: 101366.23\n"
     ]
    }
   ],
   "source": [
    "kf = KFold(n_splits=10, shuffle=True)\n",
    "\n",
    "array_of_accuracies = []\n",
    "array_of_balances = []\n",
    "\n",
    "m = linear_model.Lasso()\n",
    "\n",
    "accuracies = []\n",
    "balance_array = []\n",
    "y_pred = []\n",
    "for train, test in kf.split(X):\n",
    "    X_train, X_test, y_train, y_test = X[train], X[test], y[train], y[test]\n",
    "    m.fit(X_train, y_train)\n",
    "    \n",
    "    y_pred = m.predict(X_test)\n",
    "    count = 0\n",
    "    balance = 100000.00\n",
    "    for k in range(len(y_test)):\n",
    "        if y_pred[k] <= y_test[k] and y_pred[k] >= 1:\n",
    "            count += 1\n",
    "            balance += float(y_pred[k]) * 100 - 100\n",
    "        else:\n",
    "            balance -= 100\n",
    "\n",
    "    accuracy = count / len(y_pred)\n",
    "    accuracies = np.append(accuracies, accuracy)\n",
    "    balance_array = np.append(balance_array, balance)\n",
    "\n",
    "average_ending_balance = np.mean(balance_array)\n",
    "average_accuracy = np.mean(accuracies)\n",
    "\n",
    "array_of_accuracies = np.append(array_of_accuracies, average_accuracy)\n",
    "array_of_balances = np.append(array_of_balances, average_ending_balance)\n",
    "\n",
    "max_accuracy_Lasso = np.max(array_of_accuracies)\n",
    "max_balance_Lasso = np.max(array_of_balances)\n",
    "print(\"Maximum ending accuracy: \" + str(round(max_accuracy_Lasso * 100, 2)) + \"%\")\n",
    "print(\"Maximum ending balance:\", round(max_balance_Lasso, 2))"
   ]
  },
  {
   "cell_type": "markdown",
   "metadata": {},
   "source": [
    "### 3.2.5 Magic number"
   ]
  },
  {
   "cell_type": "code",
   "execution_count": 188,
   "metadata": {},
   "outputs": [
    {
     "data": {
      "image/png": "[encoded data removed]",
      "text/plain": [
       "<matplotlib.figure.Figure at 0x25e4ae31940>"
      ]
     },
     "metadata": {},
     "output_type": "display_data"
    },
    {
     "data": {
      "image/png": "[encoded data removed]",
      "text/plain": [
       "<matplotlib.figure.Figure at 0x25e4b1dd8d0>"
      ]
     },
     "metadata": {},
     "output_type": "display_data"
    },
    {
     "name": "stdout",
     "output_type": "stream",
     "text": [
      "Maximum ending balance: 143660.0\n"
     ]
    }
   ],
   "source": [
    "kf = KFold(n_splits=10, shuffle=True)\n",
    "\n",
    "array_of_accuracies = []\n",
    "array_of_balances = []\n",
    "\n",
    "start = 0\n",
    "step = 100\n",
    "end = 300000\n",
    "\n",
    "for i in range(start, end, step):\n",
    "    accuracies = []\n",
    "    balance_array = []\n",
    "    y_pred = []\n",
    "    \n",
    "    for train, test in kf.split(X):\n",
    "        X_train, X_test, y_train, y_test = X[train], X[test], y[train], y[test]\n",
    "        \n",
    "        y_pred = np.full(len(y_test), 1 + i / 100)\n",
    "        \n",
    "        count = 0\n",
    "        balance = 100000.00\n",
    "        for j in range(len(y_test)):\n",
    "            if y_pred[j] <= y_test[j] and y_pred[j] >= 1:\n",
    "                count += 1\n",
    "                balance += float(y_pred[j]) * 100 - 100\n",
    "            else:\n",
    "                balance -= 100\n",
    "\n",
    "        accuracy = count / len(y_pred)\n",
    "        accuracies = np.append(accuracies, accuracy)\n",
    "        balance_array = np.append(balance_array, balance)\n",
    "\n",
    "    average_ending_balance = np.mean(balance_array)\n",
    "    average_accuracy = np.mean(accuracies)\n",
    "    \n",
    "    array_of_accuracies = np.append(array_of_accuracies, average_accuracy)\n",
    "    array_of_balances = np.append(array_of_balances, average_ending_balance)\n",
    "\n",
    "numbers_list = list(frange(1 + start / 100, 1 + end / 100 - 0.01, round(step / 100, 2)))\n",
    "numbers_array = [round(elem, 2) for elem in numbers_list]\n",
    "\n",
    "plt.plot(numbers_array, array_of_accuracies)\n",
    "plt.title(\"Accuracy\")\n",
    "plt.show()\n",
    "plt.plot(numbers_array, array_of_balances)\n",
    "plt.plot(numbers_array, np.full(int((end - start) / step), 100000))\n",
    "plt.title(\"Balance\")\n",
    "plt.show()\n",
    "\n",
    "max_accuracy_MN = array_of_accuracies[array_of_balances.argmax()]\n",
    "max_balance_MN = np.max(array_of_balances)\n",
    "print(\"Maximum ending balance:\", round(np.max(array_of_balances), 2))"
   ]
  },
  {
   "cell_type": "markdown",
   "metadata": {},
   "source": [
    "## 4. Results\n",
    "\n",
    "### 4.1 Individual results\n",
    "\n",
    "Please see above for individual results.\n",
    "\n",
    "### 4.2 Cumulative results"
   ]
  },
  {
   "cell_type": "code",
   "execution_count": null,
   "metadata": {},
   "outputs": [],
   "source": [
    "x = [\"KNN\", \"RANSAC\", \"Ridge\", \"Lasso\", \"Magic Number\"]\n",
    "y = [max_balance_KNN, max_balance_RANSAC, max_balance_Ridge, max_balance_Lasso, max_balance_MN]\n",
    "\n",
    "x2, y2 = zip(*sorted(zip(x, y),key=lambda x: x[0]))\n",
    "\n",
    "# plt.scatter([\"KNN\", \"RANSAC\", \"Ridge\", \"Lasso\", \"Magic Number\"], \n",
    "#          [max_balance_KNN, max_balance_RANSAC, max_balance_Ridge, max_balance_Lasso, max_balance_MN])\n",
    "plt.plot(x2, y2)\n",
    "plt.plot([\"KNN\", \"RANSAC\", \"Ridge\", \"Lasso\", \"Magic Number\"], np.full(5, 100000))\n",
    "plt.title(\"Balances for ML Algorithms & Magic Number\")\n",
    "plt.show()"
   ]
  },
  {
   "cell_type": "code",
   "execution_count": null,
   "metadata": {},
   "outputs": [],
   "source": [
    "# clf = KNeighborsRegressor(n_neighbors=1)\n",
    "# clf = linear_model.Ridge(alpha=0.5)\n",
    "\n",
    "# scores = cross_val_score(clf, X, y, cv=10)\n",
    "# round(np.mean(scores)*100, 2)\n",
    "# scores\n",
    "# clf.score(X_test, y_test)\n",
    "\n",
    "# clf = linear_model.Lasso()\n",
    "# scores = cross_val_score(clf, X, y, cv=10)\n",
    "# scores\n",
    "\n",
    "# params = [{'C': [0.01, 0.05, 0.1, 1]}, {'n_estimators': [10, 100, 1000]}]\n",
    "# models = [SVR(), RandomForestRegressor()]\n",
    "\n",
    "# cv = [[] for _ in range(len(models))]\n",
    "# kf = KFold(n_splits=3, shuffle=True)\n",
    "# for tr, ts in kf.split(X):\n",
    "# # for tr, ts in KFold(len(X)):\n",
    "#     for i, (model, param) in enumerate(zip(models, params)):\n",
    "#         best_m = GridSearchCV(model, param)\n",
    "#         best_m.fit(X[tr], y[tr])\n",
    "#         s = mean_squared_error(y[ts], best_m.predict(X[ts]))\n",
    "#         cv[i].append(s)\n",
    "# print(np.mean(cv, 1))"
   ]
  },
  {
   "cell_type": "markdown",
   "metadata": {},
   "source": [
    "## 5. Conclusions & 6. Lessons learned\n",
    "\n",
    "* Randomness\n",
    "    - No such thing as “true randomness\"\n",
    "    - **Secondary objective**: gain some insight into the random algorithm *bustabit* uses for their game\n",
    "* Magic number\n",
    "* Defining success\n",
    "    - Initial guess: anything above 50% accuracy successful\n",
    "    - Different problems require different solutions\n",
    "    - Important to understand problem space\n",
    "* Accuracy and results\n",
    "    - For us, high accuracy did not mean the best results"
   ]
  }
 ],
 "metadata": {
  "kernelspec": {
   "display_name": "Python 3",
   "language": "python",
   "name": "python3"
  },
  "language_info": {
   "codemirror_mode": {
    "name": "ipython",
    "version": 3
   },
   "file_extension": ".py",
   "mimetype": "text/x-python",
   "name": "python",
   "nbconvert_exporter": "python",
   "pygments_lexer": "ipython3",
   "version": "3.6.4"
  }
 },
 "nbformat": 4,
 "nbformat_minor": 2
}
